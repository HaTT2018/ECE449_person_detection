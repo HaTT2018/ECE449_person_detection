{
 "cells": [
  {
   "cell_type": "code",
   "execution_count": 11,
   "metadata": {},
   "outputs": [],
   "source": [
    "import os\n",
    "import ipdb\n",
    "\n",
    "train_label_location = r'C:\\Users\\10169\\Desktop\\ECE449\\data\\labels\\train_tutorial'\n",
    "train_label_dir = os.listdir(train_label_location)\n",
    "# print(train_label_dir)\n",
    "train_image_location = r'C:\\Users\\10169\\Desktop\\ECE449\\data\\images\\train_tutorial'\n",
    "train_image_dir = os.listdir(train_image_location)"
   ]
  },
  {
   "cell_type": "code",
   "execution_count": 12,
   "metadata": {},
   "outputs": [],
   "source": [
    "valid_data = {}\n",
    "for file in train_label_dir:\n",
    "    path = os.path.join(train_label_location,file)\n",
    "    fopen=open(path,'r')\n",
    "    all_numbers = [each_line for each_line in fopen.readlines() if each_line[0]=='0']\n",
    "    if len(all_numbers):\n",
    "        with open(path,'w') as f:\n",
    "            for each in all_numbers:\n",
    "                f.write(each)\n",
    "            key = file.split('.')[0]\n",
    "            valid_data[key]=1\n",
    "    else:\n",
    "        fopen.close()\n",
    "        os.remove(path)"
   ]
  },
  {
   "cell_type": "code",
   "execution_count": 13,
   "metadata": {
    "scrolled": true
   },
   "outputs": [],
   "source": [
    "for file in train_image_dir:\n",
    "    key = file.split('.')[0]\n",
    "    #ipdb.set_trace()\n",
    "    if not (key in valid_data.keys()):\n",
    "        path = os.path.join(train_image_location,file)\n",
    "        os.remove(path)\n",
    "    "
   ]
  },
  {
   "cell_type": "code",
   "execution_count": null,
   "metadata": {},
   "outputs": [],
   "source": []
  }
 ],
 "metadata": {
  "kernelspec": {
   "display_name": "Python 3",
   "language": "python",
   "name": "python3"
  },
  "language_info": {
   "codemirror_mode": {
    "name": "ipython",
    "version": 3
   },
   "file_extension": ".py",
   "mimetype": "text/x-python",
   "name": "python",
   "nbconvert_exporter": "python",
   "pygments_lexer": "ipython3",
   "version": "3.7.6"
  }
 },
 "nbformat": 4,
 "nbformat_minor": 5
}
